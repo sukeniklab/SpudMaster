{
 "cells": [
  {
   "cell_type": "raw",
   "id": "4fbcd49b-6848-4d68-899d-cf471523fdf7",
   "metadata": {},
   "source": [
    "Class is set to align images regardless if they are time or single channel, the final output should be a tif file which file name comes from akey class. Tracking progress and saving/updating is done by the tracker class with a json able to be specified in a unique location. Tif files need to be save to a new directory, add in the option to delete the original image files as well. Needs the imageJ bridge to open the vsi images, not needed after opening, possibly for image segmentation.\n",
    "\n",
    "\n",
    "Need to add in experiment based alignment methods. i.e flatten array channels if osmotic perturbation or one-D comparison."
   ]
  },
  {
   "cell_type": "code",
   "execution_count": 33,
   "id": "d1d56608-e8a6-449e-8114-2d64c2afa096",
   "metadata": {},
   "outputs": [
    {
     "ename": "SyntaxError",
     "evalue": "non-default argument follows default argument (1226350151.py, line 23)",
     "output_type": "error",
     "traceback": [
      "\u001b[1;36m  Cell \u001b[1;32mIn[33], line 23\u001b[1;36m\u001b[0m\n\u001b[1;33m    initialized_key: Key,\u001b[0m\n\u001b[1;37m    ^\u001b[0m\n\u001b[1;31mSyntaxError\u001b[0m\u001b[1;31m:\u001b[0m non-default argument follows default argument\n"
     ]
    }
   ],
   "source": [
    "import os\n",
    "import sys\n",
    "import xarray\n",
    "import numpy as np\n",
    "import matplotlib.pyplot as plt\n",
    "import skimage as ski\n",
    "from key_handlers import key_functions\n",
    "from image_handling.imagej_manager import ImageJManager\n",
    "from file_handling import generic_handlers  \n",
    "import image_handling.image_functions as image_functions\n",
    "from image_handling import fiji_commands\n",
    "import Tracker\n",
    "from key_class import Key\n",
    "#from constants import column_names\n",
    "\n",
    "class imagej_bridge():\n",
    "    def __init__(self, version='default'):\n",
    "        self.ij = ImageJManager(version).get_ij()\n",
    "\n",
    "class image_alignment_and_tif_converstion():\n",
    "    def __init__(self, ij: imagej_bridge(), \n",
    "                 observation_methods: int | list[str] = 1, \n",
    "                 initialized_key: Key,\n",
    "                 tracker_name='tracking_file.json'):\n",
    "        self.ij = ij\n",
    "        self.file_tracker = Tracker(tracker_name)\n",
    "        self.key = initialized_key\n",
    "        self.file_list = []\n",
    "        self.obs_method = generic_handler.SetObservationMethod(obs_method_number=observation_method).get_observation_method()\n",
    "        self.current_image_set = []\n",
    "        self.pixel_count = None\n",
    "        self.background_threshold = None\n",
    "        self.__new_image_dir__ = None\n",
    "    \n",
    "    def __retrieve_files__(self, dir, file_type) -> list:\n",
    "        file_list =generic_handlers.get_file_by_extension(dir, file_type)\n",
    "        return file_list \n",
    "\n",
    "    def __concat_aligned_images__(self, input_image):\n",
    "        #calls the concat xarray function to return \n",
    "        return 'not finish'\n",
    "        \n",
    "    def __create_new_directory__(self, base_directory: str) -> str:\n",
    "        \"\"\"\n",
    "        Create (if needed) and return a new directory for saving aligned images.\n",
    "        \"\"\"\n",
    "        new_dir = os.path.join(base_directory, \"aligned_images\")\n",
    "        if not os.path.exists(new_dir):\n",
    "            os.makedirs(new_dir)\n",
    "        self.__new_image_dir__ = new_dir\n",
    "        return new_dir\n",
    "\n",
    "    def _create_new_track_file():\n",
    "        \n",
    "    def _save_to_tif(self, directory, image, filename):\n",
    "        \"\"\"\n",
    "        Saves the concatenated image as a TIFF file.\n",
    "        This is a basic example; you can modify the filename and saving options as needed.\n",
    "        \"\"\"\n",
    "        try:\n",
    "            from tifffile import imsave\n",
    "        except ImportError:\n",
    "            imsave = skimage.io.imsave\n",
    "\n",
    "        # Build a filename. For example, use a fixed name or one generated from a key handler.\n",
    "        filename = filename\n",
    "        # Ensure that a new image directory exists.\n",
    "        if self.__new_image_dir__ is None:\n",
    "            raise ValueError(\"New image directory not set. Cannot save file.\")\n",
    "        save_path = os.path.join(self.__new_image_dir__, filename)\n",
    "        # Convert the xarray to a NumPy array before saving.\n",
    "        imsave(save_path, image.values)\n",
    "        print(f\"Saved concatenated image to: {save_path}\")\n",
    "        \n",
    "    #parameters past from process_images\n",
    "    def _image_aligning(self, image_set: list, \n",
    "                         stat_image: int, \n",
    "                         alignment_method, \n",
    "                         excluded_channel, \n",
    "                         stack_method, \n",
    "                         save_directory,\n",
    "                         well) -> self.__new_image_dir:\n",
    "        #Tracker, starting on which files\n",
    "        \n",
    "        \n",
    "        \n",
    "        #runs the image alignment commands on opened images\n",
    "        try:\n",
    "            images = fiji_commands.concat_xarrays(self.ij, image_set)\n",
    "        except:\n",
    "            raise ValueError('Error in opening and concatenting files')\n",
    "        #get the name of first image as a template for final file name \n",
    "        \n",
    "        image_filename = image_set[0]\n",
    "        well_from_filename = generic_handlers.get_well_from_image(image_filename)\n",
    "\n",
    "        if well != well_from_filename:\n",
    "            raise ValueError(f'{well} from dictionary key and {well_from_filename} are mismatched')\n",
    "        \n",
    "        #retrieve the premade file save names from the key list\n",
    "        tif_save_filename = self.key.current_filename_save_parameters(image_filename, well_from_filename)\n",
    "        \n",
    "        current_construct = self.key.get_col_by_well(well_from_filename)\n",
    "        \n",
    "        #exclude the acceptor blank channel from donor only incase _is_image_empty doesn't catch the mistake\n",
    "        if current_construct == 'mTQ2':\n",
    "            excluded_channel.append[2]\n",
    "\n",
    "        #make the second image the stationary image due to donor nonsignal\n",
    "        if current_construct == 'mNG'\n",
    "            stat_image = 1\n",
    "        \n",
    "        dims_list = list(reshape_array.dims)\n",
    "        try:\n",
    "            if 't' in reshape_array.dims:\n",
    "                concat_list = []\n",
    "                for timepoint in range(reshape_array.sizes['t'])\n",
    "                    cur_image_t = reshape_array.isel(t=timepoint)\n",
    "                    tmp_image = image_functions.image_alignment(cur_image_t, stat_image, excluded_channel, stack_method)\n",
    "                    concat_list.append(tmp_image)\n",
    "                aligned_image = xarray.concat(concat_list, dim='t')\n",
    "            else:\n",
    "                tmp_image = image_functions.image_alignment(cur_image_t, stat_image, excluded_channel, stack_method)\n",
    "                aligned_image = tmp_image\n",
    "            \n",
    "            \n",
    "            #save files as tifs to new directory\n",
    "            if save_directory != None:\n",
    "                self._save_to_tif(save_directory, aligned_image, tif_save_filename)\n",
    "            else: \n",
    "                print(f{'file not being saved'})\n",
    "            [self.file_tracker.remove_file_from_list(file) for file in image_set]\n",
    "            self.file_tracker.display_progress()\n",
    "        except Exception as e:\n",
    "            [self.file_tracker.evaluate_error(e, file) for file in image_set]\n",
    "            #move files to new directory?\n",
    "            [self.file_tracker.remove_file_from_list(file) for file in image_set]\n",
    "        #Tracker: update tracker by deleting files and printing progress for alignment\n",
    "\n",
    "    #this needs to be built in a way that as files are align and saved, they are removed from the tracker class and the alignment picks back up\n",
    "    #where it leaves off, minus the file that caused the error. Maybe add try and except statement, errors can be feed to the tracker class to skip or remove the file\n",
    "    #ideally I would like it to go into another directory if it fails to align.\n",
    "    def process_images(self, directorys: list[str], \n",
    "                       stationary_image: int = 0,\n",
    "                       excluded_channels: list[int] = [], \n",
    "                       stack_method: image_function.stack_method = stack_method('rigid_body'),\n",
    "                       file_type='vsi',\n",
    "                       save_dir = None,\n",
    "                      ):\n",
    "        try:\n",
    "            if type(directory) != list:\n",
    "                directory = [directory]\n",
    "    \n",
    "            experiment_dic = {}\n",
    "    \n",
    "            #break the experiments up into different key values\n",
    "            \n",
    "            image_file_list=self.__retrieve_files__.(directory, file)\n",
    "            #track progress of experiment from file tracker class for how far along the individual experiment is\n",
    "            if not self.file_tracker.current_file_list():\n",
    "                self.file_tracker.load_files(image_file_list)\n",
    "                self.file_tracker.display_progress()\n",
    "            else:\n",
    "                self.file_tracker.display_progress()\n",
    "            \n",
    "            experimental_wells = generic_handlers.get_unique_wells_in_experiment(image_file_list)\n",
    "                                                                                                                    \n",
    "            #also make sure that these are all sorted from A1, A2 ..., B1, B2,..., C..., D..., ...\n",
    "            replicate_dic = {well: image_functions.loop_iterator(image_dic[well], self.obs_method) for well in experimental_well} #reduce embedded for loops to precalculate the replicates for given well. \n",
    "            \n",
    "            #for loop that takes the tmp image list, then selects it based on the well replicate using the loop_iterator function \n",
    "            all_image_dics = {}\n",
    "            \n",
    "            for i, well_item in enumerate(experimental_wells):\n",
    "                well = well_item[1] #I believe this is right\n",
    "                #change stationary channel if construct equals 'mNG'\n",
    "                \n",
    "                \n",
    "                image_list = image_dic[well] # should be a list of files that have number of replicates X number of wells X observation method\n",
    "                replicates_int = replicate_dic[well] #how many replicates are in each well\n",
    "                #should append to a dictionary the subset images to allow it to be processed in a seperate for-loop to save on processing time\n",
    "                #could allow for parallel processing or gpu accelerated function\n",
    "                tmp_image_dics = {well+\"-\"+it : image_functions.extract_experiment_images(image_list, it) for it in range(replicates_int)} #build\n",
    "                all_image_dics.update(tmp_image_dics)\n",
    "                #set up save file names after concat, should take wells and add on\n",
    "                '''\n",
    "                make key save files names based upon well key\n",
    "                '''\n",
    "            #process image alignment and save images as tifs in a new directory\n",
    "            [self._image_aligning(value, stationary_image, excluded_channels, stack_method, save_dir, key) for key, value in all_image_dics]\n",
    "            self.file_tracker.reset_tracker()\n",
    "\n",
    "        except:\n",
    "            raise ('Could not start aligning images')\n",
    "\n",
    "    \n",
    "        "
   ]
  },
  {
   "cell_type": "raw",
   "id": "8db88d2b-ac33-47b5-ac86-d3de52f5674a",
   "metadata": {},
   "source": [
    "This class will open the tiffiles, check to make sure the channels are preserved. The class will need t call on lower level functions that will allow segmentation through various methodologies. After segmentation, the class will need to handle extracting the mean, max, min, area, circularity, etc, needed for filling in a dataframe. It will also need to keep track of which channel it is coming from and time point, possibly take the x, y coordinates of the location. read cellpose and skimage for possible prebuilt functions to be used. \n",
    "\n",
    "Class should take a directory of files, mostlikely in tif format, open them as an xarray or np.array, perform segemntation and produce a mask, overlay the mask, extract values from ROIs\n",
    "\n",
    "Future calculations is drawing an additional polygon that helps signal distribution inside a cell to identify either drops or increase in a cell based upon the x/y values t either map the nuclear exclusion or nuclear localization of fluorescent proteins. "
   ]
  },
  {
   "cell_type": "code",
   "execution_count": null,
   "id": "e8d16d5e-11f4-426a-917a-1ca79fbbdc35",
   "metadata": {},
   "outputs": [],
   "source": []
  },
  {
   "cell_type": "code",
   "execution_count": 54,
   "id": "efb3b703-6646-4338-abb3-249245da6e69",
   "metadata": {},
   "outputs": [],
   "source": [
    "import os\n",
    "import xarray as xr\n",
    "import numpy as np\n",
    "import skimage.io\n",
    "from typing import List\n",
    "from key_class import Key\n",
    "from key_handlers import key_functions\n",
    "from image_handling.imagej_manager import ImageJManager\n",
    "from file_handling import generic_handlers  \n",
    "import image_handling.image_functions as image_functions\n",
    "from image_handling import fiji_commands\n",
    "from Tracker import Tracker  # Assuming Tracker is defined in Tracker.py\n",
    "\n",
    "class ImageAlignmentAndTifConversion:\n",
    "    \"\"\"\n",
    "    This class handles the alignment of images and conversion to TIFF format.\n",
    "    \n",
    "    It integrates:\n",
    "      - A Key instance for preloaded save filename information.\n",
    "      - An ImageJBridge instance for executing Fiji/ImageJ commands.\n",
    "      - A Tracker instance to monitor progress, handle errors, and resume processing.\n",
    "      - Directory management for saving aligned images.\n",
    "    \n",
    "    The class provides a high-level process_images() function that scans directories,\n",
    "    loads file paths into the tracker, and for each set of images (grouped by well and replicate)\n",
    "    performs image alignment (via Fiji commands and custom functions) before saving a TIFF.\n",
    "    \"\"\"\n",
    "    def __init__(self, \n",
    "                 ij: ImageJManager, \n",
    "                 observation_methods: int = 1, \n",
    "                 initialized_key: Key = None,\n",
    "                 tracker_name: str = 'tracking_file.json'):\n",
    "        try:\n",
    "            self.ij = ij # Use the ImageJ instance from the bridge\n",
    "        except Exception as e:\n",
    "            raise ValueError(\"Failed to initialize ImageJ instance.\") from e\n",
    "        \n",
    "        # Initialize tracker (handles progress and errors)\n",
    "        self.file_tracker = Tracker(tracker_name)\n",
    "        \n",
    "        # The key holds pre-built save file naming information.\n",
    "        if initialized_key is None:\n",
    "            raise ValueError(\"A Key instance must be provided for save file information.\")\n",
    "        self.key = initialized_key\n",
    "        \n",
    "        self.file_list = []\n",
    "        # Obtain observation method details from generic handlers.\n",
    "        try:\n",
    "            self.obs_method = generic_handlers.SetObservationMethod(obs_method_number=observation_methods).get_observation_method()\n",
    "        except Exception as e:\n",
    "            raise RuntimeError(\"Failed to get observation method from generic handlers.\") from e\n",
    "        \n",
    "        self.current_image_set = []\n",
    "        self.pixel_count = None\n",
    "        self.background_threshold = None\n",
    "        self.__new_image_dir__ = None\n",
    "\n",
    "    def __retrieve_files__(self, directory: str, file_type: str) -> List[str]:\n",
    "        \"\"\"\n",
    "        Retrieve all files with the given extension from a directory.\n",
    "        \"\"\"\n",
    "        try:\n",
    "            file_list = generic_handlers.get_files_by_extension(directory, file_type)\n",
    "            return file_list\n",
    "        except Exception as e:\n",
    "            raise RuntimeError(f\"Error retrieving files from {directory}\") from e\n",
    "\n",
    "    def __concat_aligned_images__(self, input_image: xr.DataArray) -> xr.DataArray:\n",
    "        \"\"\"\n",
    "        Placeholder for a function to concatenate aligned images.\n",
    "        Extend this function as needed.\n",
    "        \"\"\"\n",
    "        # For now, simply return the input image.\n",
    "        return input_image\n",
    "\n",
    "    def __create_new_directory__(self, base_directory: str) -> str:\n",
    "        \"\"\"\n",
    "        Create (if needed) and return a new directory for saving aligned images.\n",
    "        \"\"\"\n",
    "        new_dir = os.path.join(base_directory, \"aligned_images\")\n",
    "        try:\n",
    "            if not os.path.exists(new_dir):\n",
    "                os.makedirs(new_dir)\n",
    "            self.__new_image_dir__ = new_dir\n",
    "            return new_dir\n",
    "        except Exception as e:\n",
    "            raise RuntimeError(\"Failed to create new directory for aligned images.\") from e\n",
    "\n",
    "    def _save_to_tif(self, directory: str, image: xr.DataArray, filename: str):\n",
    "        try:\n",
    "            from tifffile import imsave\n",
    "        except ImportError:\n",
    "            imsave = skimage.io.imsave\n",
    "        # If new image directory not set, create it.\n",
    "        if os.path.isdir(directory):\n",
    "            self.__new_image_dir__ = directory\n",
    "            save_path = os.path.join(self.__new_image_dir__, filename)\n",
    "        else:\n",
    "            try:\n",
    "                self.__new_image_dir__ = self.__create_new_directory__(directory)\n",
    "                save_path = os.path.join(self.__new_image_dir__, filename)\n",
    "            except Exception as e:\n",
    "                raise ValueError(\"New image directory not set and failed to create one.\") from e\n",
    "        \n",
    "        try:\n",
    "            imsave(save_path, image.values)\n",
    "            \n",
    "        except Exception as e:\n",
    "            raise RuntimeError(f\"Failed to save TIFF file to {save_path}\") from e\n",
    "\n",
    "    def _image_aligning(self, \n",
    "                        image_set: List[str], \n",
    "                        stat_image: int, \n",
    "                        alignment_method, \n",
    "                        excluded_channel: List[int], \n",
    "                        stack_method, \n",
    "                        save_directory: str,\n",
    "                        well: str):\n",
    "        \"\"\"\n",
    "        Align a set of images and save the final TIFF file.\n",
    "        \n",
    "        Parameters:\n",
    "            image_set: List of file paths for images to align.\n",
    "            stat_image: Index of the stationary image.\n",
    "            alignment_method: Alignment method to use.\n",
    "            excluded_channel: List of channels to exclude.\n",
    "            stack_method: Method for stacking images.\n",
    "            save_directory: Directory to save the aligned image.\n",
    "            well: Well identifier for validation and naming.\n",
    "        \"\"\"\n",
    "        \n",
    "        try:\n",
    "            # Concatenate the input images using Fiji commands.\n",
    "            images = fiji_commands.open_and_concat_images(self.ij, image_set)\n",
    "            \n",
    "        except Exception as e:\n",
    "            raise ValueError(\"Error opening and concatenating files via Fiji commands.\") from e\n",
    "\n",
    "        # Use the first image filename as template for final filename.\n",
    "        image_filename = image_set[0]\n",
    "        well_from_filename = generic_handlers.get_well_from_file(image_filename)\n",
    "        if well != well_from_filename:\n",
    "            raise ValueError(f\"Mismatch: key well '{well}' vs. image well '{well_from_filename}'.\")\n",
    "        # Retrieve pre-built file save name from the key.\n",
    "        tif_save_filename = self.key.current_filename_save_parameters(image_filename, well_from_filename)\n",
    "        # Get construct information from key (e.g., a column like 'construct')\n",
    "        try:\n",
    "            current_construct = self.key.get_col_by_well(col='construct', well=well_from_filename)\n",
    "        except Exception as e:\n",
    "            raise RuntimeError(\"Error retrieving construct information from Key.\") from e\n",
    "        \n",
    "        # Adjust parameters based on construct.\n",
    "        if current_construct.iloc[0] == 'mTQ2':\n",
    "            excluded_channel.append(2)  # Append channel index 2\n",
    "        if current_construct.iloc[0] == 'mNG':\n",
    "            stat_image = 1  # Use second image as stationary\n",
    "        \n",
    "        # Align images: if a time dimension exists, process each timepoint.\n",
    "        try:\n",
    "            if 't' in images.dims:\n",
    "                concat_list = []\n",
    "                for timepoint in range(images.sizes['t']):\n",
    "                    cur_image_t = images.isel(t=timepoint)\n",
    "                    aligned = image_functions.image_alignment(cur_image_t, stat_image, excluded_channel, stack_method)\n",
    "                    concat_list.append(aligned)\n",
    "                aligned_image = xr.concat(concat_list, dim='t')\n",
    "            else:\n",
    "                \n",
    "                aligned_image = image_functions.image_alignment(images, stat_image, excluded_channel, stack_method)\n",
    "            \n",
    "        except Exception as e:\n",
    "            raise RuntimeError(\"Error during image alignment process.\") from e\n",
    "        \n",
    "        # Save the aligned image.\n",
    "        try:\n",
    "            self._save_to_tif(save_directory, aligned_image, tif_save_filename)\n",
    "        except Exception as e:\n",
    "            # Log error in tracker for each file in image_set.\n",
    "            for file in image_set:\n",
    "                self.file_tracker.evaluate_error(file, e)\n",
    "            # Optionally, move files to an error directory or remove them.\n",
    "            for file in image_set:\n",
    "                self.file_tracker.remove_file_from_list(file)\n",
    "            # Re-raise the error to indicate failure.\n",
    "            raise\n",
    "\n",
    "        # On success: remove processed files from tracker and display progress.\n",
    "        for file in image_set:\n",
    "            self.file_tracker.remove_file_from_list(file)\n",
    "        self.file_tracker.display_progress()\n",
    "\n",
    "    def process_images(self, \n",
    "                       directories: List[str], \n",
    "                       stationary_image: int = 0,\n",
    "                       excluded_channels: List[int] = [], \n",
    "                       stack_method = None,\n",
    "                       file_type: str = 'vsi',\n",
    "                       save_dir: str = None):\n",
    "        \"\"\"\n",
    "        Process images from one or more directories:\n",
    "          - Retrieve files matching the given extension.\n",
    "          - Load file paths into the tracker (or resume from previous state).\n",
    "          - Group files by well and replicate.\n",
    "          - For each group, call _image_aligning to align images and save the result.\n",
    "          - Reset the tracker at the end.\n",
    "        \n",
    "        Parameters:\n",
    "            directories: List of directory paths to search.\n",
    "            stationary_image: Index for the stationary image.\n",
    "            excluded_channels: List of channels to exclude.\n",
    "            stack_method: The stacking method; if not provided, defaults to 'rigid_body'.\n",
    "            file_type: File extension to search for (e.g., 'vsi').\n",
    "            save_dir: Directory in which to save aligned images.\n",
    "        \"\"\"\n",
    "        try:\n",
    "            # Ensure directories is a list.\n",
    "            if not isinstance(directories, list):\n",
    "                directories = [directories]\n",
    "    \n",
    "            # Gather image files from all directories.\n",
    "            image_file_list = []\n",
    "            for directory in directories:\n",
    "                image_file_list.extend(self.__retrieve_files__(directory, file_type))\n",
    "            \n",
    "\n",
    "            # Load files into the tracker if not already loaded.\n",
    "            if not self.file_tracker.current_file_list():\n",
    "                self.file_tracker.load_files(image_file_list)\n",
    "            self.file_tracker.display_progress()\n",
    "    \n",
    "            # Get unique wells from the file list.\n",
    "            experimental_wells = generic_handlers.get_unique_wells_in_experiment(image_file_list)\n",
    "            \n",
    "            # Build a dictionary mapping each well to its list of files.\n",
    "            image_dic = {well: key_functions.get_unique_well_list(image_file_list, well) for well in experimental_wells}\n",
    "            #image_dic[well] = [f for f in image_file_list if generic_handlers.get_well_from_file(f) == well]\n",
    "            \n",
    "            # Optionally, build replicate information for each well.\n",
    "            replicate_dic = {}\n",
    "            for well, files in image_dic.items():\n",
    "                \n",
    "                replicate_dic[well] = generic_handlers.loop_iterator(files, self.obs_method)\n",
    "            \n",
    "            # For each well and replicate, process alignment.\n",
    "            for well, files in image_dic.items():\n",
    "                # For each replicate (here using loop_iterator to partition files)\n",
    "                num_replicates = replicate_dic.get(well, 1)\n",
    "                for rep in range(num_replicates+1):\n",
    "                    try:\n",
    "                        # Extract the subset of files for this replicate.\n",
    "                        # (Assumes extract_experiment_images handles the replicate extraction.)\n",
    "                        replicate_files = generic_handlers.extract_experiment_images(files, rep)\n",
    "                        if not replicate_files:\n",
    "                            continue\n",
    "                        # Ensure a save directory exists.\n",
    "                        if save_dir is None:\n",
    "                            base_dir = os.path.dirname(replicate_files[0])\n",
    "                            save_directory = self.__create_new_directory__(base_dir)\n",
    "                        else:\n",
    "                            save_directory = save_dir\n",
    "                            \n",
    "                        # Align images for this replicate.\n",
    "                        \n",
    "                        replicate_files = generic_handlers.sort_filenames(replicate_files, self.obs_method)\n",
    "                        self._image_aligning(replicate_files, stationary_image, \n",
    "                                             alignment_method=None,  # Pass alignment_method if needed.\n",
    "                                             excluded_channel=excluded_channels.copy(), \n",
    "                                             stack_method=stack_method if stack_method is not None else image_functions.stack_method('rigid_body'),\n",
    "                                             save_directory=save_directory,\n",
    "                                             well=well)\n",
    "                    except Exception as rep_e:\n",
    "                        print(f\"Error aligning images for well {well}, replicate {rep}: {rep_e}\")\n",
    "                        # Continue with next replicate.\n",
    "                        continue\n",
    "    \n",
    "            # Once done, reset tracker.\n",
    "            self.file_tracker.reset_tracker()\n",
    "    \n",
    "        except Exception as e:\n",
    "            raise Exception(\"Could not complete processing images.\") from e\n"
   ]
  },
  {
   "cell_type": "code",
   "execution_count": 55,
   "id": "617eb394-3c46-4ead-bd21-66b9449f5d53",
   "metadata": {},
   "outputs": [
    {
     "name": "stderr",
     "output_type": "stream",
     "text": [
      "2025-02-13 16:12:35,107 - INFO - Loaded tracker data from E:\\Patrick\\tracking_jsons\\test_tracker.json\n"
     ]
    }
   ],
   "source": [
    "key_class = Key(r'E:\\Patrick\\Keys\\testkey.csv', ['date', 'experiment', None, None, None, 'well'], skip_validation=True)\n",
    "ij = ImageJManager('default').get_ij()\n",
    "\n",
    "aligning_class = ImageAlignmentAndTifConversion(ij=ij,  observation_methods=1, initialized_key=key_class, \n",
    "                                                tracker_name=r\"E:\\Patrick\\tracking_jsons\\test_tracker.json\")"
   ]
  },
  {
   "cell_type": "code",
   "execution_count": 56,
   "id": "75bb45f0-8580-4905-ab51-f6cd91037221",
   "metadata": {},
   "outputs": [
    {
     "name": "stderr",
     "output_type": "stream",
     "text": [
      "2025-02-13 16:12:35,783 - INFO - Loaded 32 files\n",
      "2025-02-13 16:12:36,287 - INFO - Tracker data saved.\n",
      "2025-02-13 16:12:36,288 - INFO - Progress: 0/32 files processed. 32 remaining.\n",
      "[java.lang.Enum.toString] CellSensReader initializing D:\\olympus_images\\test\\test\\20250124_102049_test-10-1-10-1_PK-FRET, PK-FRET_Image_A1-1.vsi\n",
      "[java.lang.Enum.toString] CellSensReader initializing D:\\olympus_images\\test\\test\\20250124_102049_test-10-1-10-1_PK-DirectA_Image_A1-1.vsi\n"
     ]
    },
    {
     "name": "stdout",
     "output_type": "stream",
     "text": [
      "0    1\n",
      "Name: construct, dtype: int64\n"
     ]
    },
    {
     "name": "stderr",
     "output_type": "stream",
     "text": [
      "C:\\Users\\patri\\AppData\\Local\\Temp\\ipykernel_21020\\3171569322.py:106: DeprecationWarning: <tifffile.imsave> is deprecated. Use tifffile.imwrite\n",
      "  imsave(save_path, image.values)\n",
      "2025-02-13 16:12:36,898 - INFO - Removed file from list: D:\\olympus_images\\test\\test\\20250124_102049_test-10-1-10-1_PK-FRET, PK-FRET_Image_A1-1.vsi\n",
      "2025-02-13 16:12:36,900 - INFO - Tracker data saved.\n",
      "2025-02-13 16:12:36,901 - INFO - Removed file from list: D:\\olympus_images\\test\\test\\20250124_102049_test-10-1-10-1_PK-DirectA_Image_A1-1.vsi\n",
      "2025-02-13 16:12:36,904 - INFO - Tracker data saved.\n",
      "2025-02-13 16:12:36,904 - INFO - Progress: 2/32 files processed. 30 remaining.\n",
      "[java.lang.Enum.toString] CellSensReader initializing D:\\olympus_images\\test\\test\\20250124_102049_test-10-1-10-1_PK-FRET, PK-FRET_Image_A1-2.vsi\n"
     ]
    },
    {
     "name": "stdout",
     "output_type": "stream",
     "text": [
      "Saved aligned image to: D:\\olympus_images\\test\\test_save\\date-20250124_experiment-102049_techReplicate-1_well-A1_construct-1_experiment-test_replicate-1_passage-26.tif\n",
      "0    1\n",
      "Name: construct, dtype: int64\n"
     ]
    },
    {
     "name": "stderr",
     "output_type": "stream",
     "text": [
      "[java.lang.Enum.toString] CellSensReader initializing D:\\olympus_images\\test\\test\\20250124_102049_test-10-1-10-1_PK-DirectA_Image_A1-2.vsi\n",
      "2025-02-13 16:12:37,627 - INFO - Removed file from list: D:\\olympus_images\\test\\test\\20250124_102049_test-10-1-10-1_PK-FRET, PK-FRET_Image_A1-2.vsi\n",
      "2025-02-13 16:12:37,631 - INFO - Tracker data saved.\n",
      "2025-02-13 16:12:37,632 - INFO - Removed file from list: D:\\olympus_images\\test\\test\\20250124_102049_test-10-1-10-1_PK-DirectA_Image_A1-2.vsi\n",
      "2025-02-13 16:12:37,636 - INFO - Tracker data saved.\n",
      "2025-02-13 16:12:37,638 - INFO - Progress: 4/32 files processed. 28 remaining.\n"
     ]
    },
    {
     "name": "stdout",
     "output_type": "stream",
     "text": [
      "Saved aligned image to: D:\\olympus_images\\test\\test_save\\date-20250124_experiment-102049_techReplicate-2_well-A1_construct-1_experiment-test_replicate-1_passage-26.tif\n"
     ]
    },
    {
     "name": "stderr",
     "output_type": "stream",
     "text": [
      "[java.lang.Enum.toString] CellSensReader initializing D:\\olympus_images\\test\\test\\20250124_102050_test-10-1-10-1_PK-FRET, PK-FRET_Image_A1-3.vsi\n",
      "[java.lang.Enum.toString] CellSensReader initializing D:\\olympus_images\\test\\test\\20250124_102050_test-10-1-10-1_PK-DirectA_Image_A1-3.vsi\n"
     ]
    },
    {
     "name": "stdout",
     "output_type": "stream",
     "text": [
      "0    1\n",
      "Name: construct, dtype: int64\n"
     ]
    },
    {
     "name": "stderr",
     "output_type": "stream",
     "text": [
      "2025-02-13 16:12:39,370 - INFO - Removed file from list: D:\\olympus_images\\test\\test\\20250124_102050_test-10-1-10-1_PK-FRET, PK-FRET_Image_A1-3.vsi\n",
      "2025-02-13 16:12:39,375 - INFO - Tracker data saved.\n",
      "2025-02-13 16:12:39,376 - INFO - Removed file from list: D:\\olympus_images\\test\\test\\20250124_102050_test-10-1-10-1_PK-DirectA_Image_A1-3.vsi\n",
      "2025-02-13 16:12:39,381 - INFO - Tracker data saved.\n",
      "2025-02-13 16:12:39,382 - INFO - Progress: 6/32 files processed. 26 remaining.\n"
     ]
    },
    {
     "name": "stdout",
     "output_type": "stream",
     "text": [
      "Saved aligned image to: D:\\olympus_images\\test\\test_save\\date-20250124_experiment-102050_techReplicate-3_well-A1_construct-1_experiment-test_replicate-1_passage-26.tif\n"
     ]
    },
    {
     "name": "stderr",
     "output_type": "stream",
     "text": [
      "[java.lang.Enum.toString] CellSensReader initializing D:\\olympus_images\\test\\test\\20250124_102050_test-10-1-10-1_PK-FRET, PK-FRET_Image_A1-4.vsi\n",
      "[java.lang.Enum.toString] CellSensReader initializing D:\\olympus_images\\test\\test\\20250124_102050_test-10-1-10-1_PK-DirectA_Image_A1-4.vsi\n"
     ]
    },
    {
     "name": "stdout",
     "output_type": "stream",
     "text": [
      "0    1\n",
      "Name: construct, dtype: int64\n"
     ]
    },
    {
     "name": "stderr",
     "output_type": "stream",
     "text": [
      "2025-02-13 16:12:40,097 - INFO - Removed file from list: D:\\olympus_images\\test\\test\\20250124_102050_test-10-1-10-1_PK-FRET, PK-FRET_Image_A1-4.vsi\n",
      "2025-02-13 16:12:40,102 - INFO - Tracker data saved.\n",
      "2025-02-13 16:12:40,103 - INFO - Removed file from list: D:\\olympus_images\\test\\test\\20250124_102050_test-10-1-10-1_PK-DirectA_Image_A1-4.vsi\n",
      "2025-02-13 16:12:40,107 - INFO - Tracker data saved.\n",
      "2025-02-13 16:12:40,109 - INFO - Progress: 8/32 files processed. 24 remaining.\n"
     ]
    },
    {
     "name": "stdout",
     "output_type": "stream",
     "text": [
      "Saved aligned image to: D:\\olympus_images\\test\\test_save\\date-20250124_experiment-102050_techReplicate-4_well-A1_construct-1_experiment-test_replicate-1_passage-26.tif\n",
      "1    1\n",
      "Name: construct, dtype: int64\n"
     ]
    },
    {
     "name": "stderr",
     "output_type": "stream",
     "text": [
      "[java.lang.Enum.toString] CellSensReader initializing D:\\olympus_images\\test\\test\\20250124_102050_test-10-1-10-1_PK-FRET, PK-FRET_Image_A2-1.vsi\n",
      "[java.lang.Enum.toString] CellSensReader initializing D:\\olympus_images\\test\\test\\20250124_102050_test-10-1-10-1_PK-DirectA_Image_A2-1.vsi\n",
      "2025-02-13 16:12:40,828 - INFO - Removed file from list: D:\\olympus_images\\test\\test\\20250124_102050_test-10-1-10-1_PK-FRET, PK-FRET_Image_A2-1.vsi\n",
      "2025-02-13 16:12:41,014 - INFO - Tracker data saved.\n"
     ]
    },
    {
     "name": "stdout",
     "output_type": "stream",
     "text": [
      "Saved aligned image to: D:\\olympus_images\\test\\test_save\\date-20250124_experiment-102050_techReplicate-1_well-A2_construct-1_experiment-test_replicate-2_passage-26.tif\n"
     ]
    },
    {
     "name": "stderr",
     "output_type": "stream",
     "text": [
      "2025-02-13 16:12:41,015 - INFO - Removed file from list: D:\\olympus_images\\test\\test\\20250124_102050_test-10-1-10-1_PK-DirectA_Image_A2-1.vsi\n",
      "2025-02-13 16:12:41,020 - INFO - Tracker data saved.\n",
      "2025-02-13 16:12:41,022 - INFO - Progress: 10/32 files processed. 22 remaining.\n",
      "[java.lang.Enum.toString] CellSensReader initializing D:\\olympus_images\\test\\test\\20250124_102050_test-10-1-10-1_PK-FRET, PK-FRET_Image_A2-2.vsi\n",
      "[java.lang.Enum.toString] CellSensReader initializing D:\\olympus_images\\test\\test\\20250124_102050_test-10-1-10-1_PK-DirectA_Image_A2-2.vsi\n"
     ]
    },
    {
     "name": "stdout",
     "output_type": "stream",
     "text": [
      "1    1\n",
      "Name: construct, dtype: int64\n"
     ]
    },
    {
     "name": "stderr",
     "output_type": "stream",
     "text": [
      "2025-02-13 16:12:41,788 - INFO - Removed file from list: D:\\olympus_images\\test\\test\\20250124_102050_test-10-1-10-1_PK-FRET, PK-FRET_Image_A2-2.vsi\n",
      "2025-02-13 16:12:41,793 - INFO - Tracker data saved.\n",
      "2025-02-13 16:12:41,794 - INFO - Removed file from list: D:\\olympus_images\\test\\test\\20250124_102050_test-10-1-10-1_PK-DirectA_Image_A2-2.vsi\n",
      "2025-02-13 16:12:41,953 - INFO - Tracker data saved.\n",
      "2025-02-13 16:12:41,953 - INFO - Progress: 12/32 files processed. 20 remaining.\n"
     ]
    },
    {
     "name": "stdout",
     "output_type": "stream",
     "text": [
      "Saved aligned image to: D:\\olympus_images\\test\\test_save\\date-20250124_experiment-102050_techReplicate-2_well-A2_construct-1_experiment-test_replicate-2_passage-26.tif\n"
     ]
    },
    {
     "name": "stderr",
     "output_type": "stream",
     "text": [
      "[java.lang.Enum.toString] CellSensReader initializing D:\\olympus_images\\test\\test\\20250124_102050_test-10-1-10-1_PK-FRET, PK-FRET_Image_A2-3.vsi\n",
      "[java.lang.Enum.toString] CellSensReader initializing D:\\olympus_images\\test\\test\\20250124_102050_test-10-1-10-1_PK-DirectA_Image_A2-3.vsi\n"
     ]
    },
    {
     "name": "stdout",
     "output_type": "stream",
     "text": [
      "1    1\n",
      "Name: construct, dtype: int64\n"
     ]
    },
    {
     "name": "stderr",
     "output_type": "stream",
     "text": [
      "2025-02-13 16:12:42,536 - INFO - Removed file from list: D:\\olympus_images\\test\\test\\20250124_102050_test-10-1-10-1_PK-FRET, PK-FRET_Image_A2-3.vsi\n"
     ]
    },
    {
     "name": "stdout",
     "output_type": "stream",
     "text": [
      "Saved aligned image to: D:\\olympus_images\\test\\test_save\\date-20250124_experiment-102050_techReplicate-3_well-A2_construct-1_experiment-test_replicate-2_passage-26.tif\n"
     ]
    },
    {
     "name": "stderr",
     "output_type": "stream",
     "text": [
      "2025-02-13 16:12:42,772 - INFO - Tracker data saved.\n",
      "2025-02-13 16:12:42,773 - INFO - Removed file from list: D:\\olympus_images\\test\\test\\20250124_102050_test-10-1-10-1_PK-DirectA_Image_A2-3.vsi\n",
      "2025-02-13 16:12:42,788 - INFO - Tracker data saved.\n",
      "2025-02-13 16:12:42,789 - INFO - Progress: 14/32 files processed. 18 remaining.\n",
      "[java.lang.Enum.toString] CellSensReader initializing D:\\olympus_images\\test\\test\\20250124_102050_test-10-1-10-1_PK-FRET, PK-FRET_Image_A2-4.vsi\n",
      "[java.lang.Enum.toString] CellSensReader initializing D:\\olympus_images\\test\\test\\20250124_102050_test-10-1-10-1_PK-DirectA_Image_A2-4.vsi\n"
     ]
    },
    {
     "name": "stdout",
     "output_type": "stream",
     "text": [
      "1    1\n",
      "Name: construct, dtype: int64\n"
     ]
    },
    {
     "name": "stderr",
     "output_type": "stream",
     "text": [
      "2025-02-13 16:12:43,503 - INFO - Removed file from list: D:\\olympus_images\\test\\test\\20250124_102050_test-10-1-10-1_PK-FRET, PK-FRET_Image_A2-4.vsi\n",
      "2025-02-13 16:12:43,506 - INFO - Tracker data saved.\n",
      "2025-02-13 16:12:43,507 - INFO - Removed file from list: D:\\olympus_images\\test\\test\\20250124_102050_test-10-1-10-1_PK-DirectA_Image_A2-4.vsi\n",
      "2025-02-13 16:12:43,542 - INFO - Tracker data saved.\n",
      "2025-02-13 16:12:43,544 - INFO - Progress: 16/32 files processed. 16 remaining.\n"
     ]
    },
    {
     "name": "stdout",
     "output_type": "stream",
     "text": [
      "Saved aligned image to: D:\\olympus_images\\test\\test_save\\date-20250124_experiment-102050_techReplicate-4_well-A2_construct-1_experiment-test_replicate-2_passage-26.tif\n"
     ]
    },
    {
     "name": "stderr",
     "output_type": "stream",
     "text": [
      "[java.lang.Enum.toString] CellSensReader initializing D:\\olympus_images\\test\\test\\20250124_102050_test-10-1-10-1_PK-FRET, PK-FRET_Image_B1-1.vsi\n",
      "[java.lang.Enum.toString] CellSensReader initializing D:\\olympus_images\\test\\test\\20250124_102050_test-10-1-10-1_PK-DirectA_Image_B1-1.vsi\n"
     ]
    },
    {
     "name": "stdout",
     "output_type": "stream",
     "text": [
      "2    1\n",
      "Name: construct, dtype: int64\n"
     ]
    },
    {
     "name": "stderr",
     "output_type": "stream",
     "text": [
      "2025-02-13 16:12:44,072 - INFO - Removed file from list: D:\\olympus_images\\test\\test\\20250124_102050_test-10-1-10-1_PK-FRET, PK-FRET_Image_B1-1.vsi\n",
      "2025-02-13 16:12:44,074 - INFO - Tracker data saved.\n",
      "2025-02-13 16:12:44,075 - INFO - Removed file from list: D:\\olympus_images\\test\\test\\20250124_102050_test-10-1-10-1_PK-DirectA_Image_B1-1.vsi\n",
      "2025-02-13 16:12:44,077 - INFO - Tracker data saved.\n",
      "2025-02-13 16:12:44,078 - INFO - Progress: 18/32 files processed. 14 remaining.\n"
     ]
    },
    {
     "name": "stdout",
     "output_type": "stream",
     "text": [
      "Saved aligned image to: D:\\olympus_images\\test\\test_save\\date-20250124_experiment-102050_techReplicate-1_well-B1_construct-1_experiment-test_replicate-3_passage-26.tif\n",
      "2    1\n",
      "Name: construct, dtype: int64\n"
     ]
    },
    {
     "name": "stderr",
     "output_type": "stream",
     "text": [
      "[java.lang.Enum.toString] CellSensReader initializing D:\\olympus_images\\test\\test\\20250124_102050_test-10-1-10-1_PK-FRET, PK-FRET_Image_B1-2.vsi\n",
      "[java.lang.Enum.toString] CellSensReader initializing D:\\olympus_images\\test\\test\\20250124_102050_test-10-1-10-1_PK-DirectA_Image_B1-2.vsi\n",
      "2025-02-13 16:12:44,569 - INFO - Removed file from list: D:\\olympus_images\\test\\test\\20250124_102050_test-10-1-10-1_PK-FRET, PK-FRET_Image_B1-2.vsi\n",
      "2025-02-13 16:12:44,576 - INFO - Tracker data saved.\n",
      "2025-02-13 16:12:44,577 - INFO - Removed file from list: D:\\olympus_images\\test\\test\\20250124_102050_test-10-1-10-1_PK-DirectA_Image_B1-2.vsi\n",
      "2025-02-13 16:12:44,580 - INFO - Tracker data saved.\n",
      "2025-02-13 16:12:44,580 - INFO - Progress: 20/32 files processed. 12 remaining.\n"
     ]
    },
    {
     "name": "stdout",
     "output_type": "stream",
     "text": [
      "Saved aligned image to: D:\\olympus_images\\test\\test_save\\date-20250124_experiment-102050_techReplicate-2_well-B1_construct-1_experiment-test_replicate-3_passage-26.tif\n"
     ]
    },
    {
     "name": "stderr",
     "output_type": "stream",
     "text": [
      "[java.lang.Enum.toString] CellSensReader initializing D:\\olympus_images\\test\\test\\20250124_102050_test-10-1-10-1_PK-FRET, PK-FRET_Image_B1-3.vsi\n",
      "[java.lang.Enum.toString] CellSensReader initializing D:\\olympus_images\\test\\test\\20250124_102050_test-10-1-10-1_PK-DirectA_Image_B1-3.vsi\n"
     ]
    },
    {
     "name": "stdout",
     "output_type": "stream",
     "text": [
      "2    1\n",
      "Name: construct, dtype: int64\n"
     ]
    },
    {
     "name": "stderr",
     "output_type": "stream",
     "text": [
      "2025-02-13 16:12:45,386 - INFO - Removed file from list: D:\\olympus_images\\test\\test\\20250124_102050_test-10-1-10-1_PK-FRET, PK-FRET_Image_B1-3.vsi\n",
      "2025-02-13 16:12:45,388 - INFO - Tracker data saved.\n",
      "2025-02-13 16:12:45,389 - INFO - Removed file from list: D:\\olympus_images\\test\\test\\20250124_102050_test-10-1-10-1_PK-DirectA_Image_B1-3.vsi\n",
      "2025-02-13 16:12:45,394 - INFO - Tracker data saved.\n",
      "2025-02-13 16:12:45,395 - INFO - Progress: 22/32 files processed. 10 remaining.\n"
     ]
    },
    {
     "name": "stdout",
     "output_type": "stream",
     "text": [
      "Saved aligned image to: D:\\olympus_images\\test\\test_save\\date-20250124_experiment-102050_techReplicate-3_well-B1_construct-1_experiment-test_replicate-3_passage-26.tif\n",
      "2    1\n",
      "Name: construct, dtype: int64\n"
     ]
    },
    {
     "name": "stderr",
     "output_type": "stream",
     "text": [
      "[java.lang.Enum.toString] CellSensReader initializing D:\\olympus_images\\test\\test\\20250124_102050_test-10-1-10-1_PK-FRET, PK-FRET_Image_B1-4.vsi\n",
      "[java.lang.Enum.toString] CellSensReader initializing D:\\olympus_images\\test\\test\\20250124_102050_test-10-1-10-1_PK-DirectA_Image_B1-4.vsi\n",
      "2025-02-13 16:12:46,073 - INFO - Removed file from list: D:\\olympus_images\\test\\test\\20250124_102050_test-10-1-10-1_PK-FRET, PK-FRET_Image_B1-4.vsi\n",
      "2025-02-13 16:12:46,075 - INFO - Tracker data saved.\n",
      "2025-02-13 16:12:46,077 - INFO - Removed file from list: D:\\olympus_images\\test\\test\\20250124_102050_test-10-1-10-1_PK-DirectA_Image_B1-4.vsi\n",
      "2025-02-13 16:12:46,084 - INFO - Tracker data saved.\n",
      "2025-02-13 16:12:46,085 - INFO - Progress: 24/32 files processed. 8 remaining.\n"
     ]
    },
    {
     "name": "stdout",
     "output_type": "stream",
     "text": [
      "Saved aligned image to: D:\\olympus_images\\test\\test_save\\date-20250124_experiment-102050_techReplicate-4_well-B1_construct-1_experiment-test_replicate-3_passage-26.tif\n"
     ]
    },
    {
     "name": "stderr",
     "output_type": "stream",
     "text": [
      "[java.lang.Enum.toString] CellSensReader initializing D:\\olympus_images\\test\\test\\20250124_102051_test-10-1-10-1_PK-FRET, PK-FRET_Image_B2-1.vsi\n",
      "[java.lang.Enum.toString] CellSensReader initializing D:\\olympus_images\\test\\test\\20250124_102051_test-10-1-10-1_PK-DirectA_Image_B2-1.vsi\n"
     ]
    },
    {
     "name": "stdout",
     "output_type": "stream",
     "text": [
      "3    1\n",
      "Name: construct, dtype: int64\n"
     ]
    },
    {
     "name": "stderr",
     "output_type": "stream",
     "text": [
      "2025-02-13 16:12:46,882 - INFO - Removed file from list: D:\\olympus_images\\test\\test\\20250124_102051_test-10-1-10-1_PK-FRET, PK-FRET_Image_B2-1.vsi\n",
      "2025-02-13 16:12:46,884 - INFO - Tracker data saved.\n",
      "2025-02-13 16:12:46,885 - INFO - Removed file from list: D:\\olympus_images\\test\\test\\20250124_102051_test-10-1-10-1_PK-DirectA_Image_B2-1.vsi\n",
      "2025-02-13 16:12:46,887 - INFO - Tracker data saved.\n",
      "2025-02-13 16:12:46,888 - INFO - Progress: 26/32 files processed. 6 remaining.\n"
     ]
    },
    {
     "name": "stdout",
     "output_type": "stream",
     "text": [
      "Saved aligned image to: D:\\olympus_images\\test\\test_save\\date-20250124_experiment-102051_techReplicate-1_well-B2_construct-1_experiment-test_replicate-4_passage-26.tif\n",
      "3    1\n",
      "Name: construct, dtype: int64\n"
     ]
    },
    {
     "name": "stderr",
     "output_type": "stream",
     "text": [
      "[java.lang.Enum.toString] CellSensReader initializing D:\\olympus_images\\test\\test\\20250124_102051_test-10-1-10-1_PK-FRET, PK-FRET_Image_B2-2.vsi\n",
      "[java.lang.Enum.toString] CellSensReader initializing D:\\olympus_images\\test\\test\\20250124_102051_test-10-1-10-1_PK-DirectA_Image_B2-2.vsi\n",
      "2025-02-13 16:12:47,421 - INFO - Removed file from list: D:\\olympus_images\\test\\test\\20250124_102051_test-10-1-10-1_PK-FRET, PK-FRET_Image_B2-2.vsi\n",
      "2025-02-13 16:12:47,431 - INFO - Tracker data saved.\n",
      "2025-02-13 16:12:47,433 - INFO - Removed file from list: D:\\olympus_images\\test\\test\\20250124_102051_test-10-1-10-1_PK-DirectA_Image_B2-2.vsi\n",
      "2025-02-13 16:12:47,436 - INFO - Tracker data saved.\n",
      "2025-02-13 16:12:47,437 - INFO - Progress: 28/32 files processed. 4 remaining.\n"
     ]
    },
    {
     "name": "stdout",
     "output_type": "stream",
     "text": [
      "Saved aligned image to: D:\\olympus_images\\test\\test_save\\date-20250124_experiment-102051_techReplicate-2_well-B2_construct-1_experiment-test_replicate-4_passage-26.tif\n"
     ]
    },
    {
     "name": "stderr",
     "output_type": "stream",
     "text": [
      "[java.lang.Enum.toString] CellSensReader initializing D:\\olympus_images\\test\\test\\20250124_102051_test-10-1-10-1_PK-FRET, PK-FRET_Image_B2-3.vsi\n",
      "[java.lang.Enum.toString] CellSensReader initializing D:\\olympus_images\\test\\test\\20250124_102051_test-10-1-10-1_PK-DirectA_Image_B2-3.vsi\n"
     ]
    },
    {
     "name": "stdout",
     "output_type": "stream",
     "text": [
      "3    1\n",
      "Name: construct, dtype: int64\n"
     ]
    },
    {
     "name": "stderr",
     "output_type": "stream",
     "text": [
      "2025-02-13 16:12:48,059 - INFO - Removed file from list: D:\\olympus_images\\test\\test\\20250124_102051_test-10-1-10-1_PK-FRET, PK-FRET_Image_B2-3.vsi\n"
     ]
    },
    {
     "name": "stdout",
     "output_type": "stream",
     "text": [
      "Saved aligned image to: D:\\olympus_images\\test\\test_save\\date-20250124_experiment-102051_techReplicate-3_well-B2_construct-1_experiment-test_replicate-4_passage-26.tif\n"
     ]
    },
    {
     "name": "stderr",
     "output_type": "stream",
     "text": [
      "2025-02-13 16:12:48,304 - INFO - Tracker data saved.\n",
      "2025-02-13 16:12:48,305 - INFO - Removed file from list: D:\\olympus_images\\test\\test\\20250124_102051_test-10-1-10-1_PK-DirectA_Image_B2-3.vsi\n",
      "2025-02-13 16:12:48,308 - INFO - Tracker data saved.\n",
      "2025-02-13 16:12:48,309 - INFO - Progress: 30/32 files processed. 2 remaining.\n",
      "[java.lang.Enum.toString] CellSensReader initializing D:\\olympus_images\\test\\test\\20250124_102051_test-10-1-10-1_PK-FRET, PK-FRET_Image_B2-4.vsi\n",
      "[java.lang.Enum.toString] CellSensReader initializing D:\\olympus_images\\test\\test\\20250124_102051_test-10-1-10-1_PK-DirectA_Image_B2-4.vsi\n"
     ]
    },
    {
     "name": "stdout",
     "output_type": "stream",
     "text": [
      "3    1\n",
      "Name: construct, dtype: int64\n"
     ]
    },
    {
     "name": "stderr",
     "output_type": "stream",
     "text": [
      "2025-02-13 16:12:48,985 - INFO - Removed file from list: D:\\olympus_images\\test\\test\\20250124_102051_test-10-1-10-1_PK-FRET, PK-FRET_Image_B2-4.vsi\n",
      "2025-02-13 16:12:49,035 - INFO - Tracker data saved.\n",
      "2025-02-13 16:12:49,035 - INFO - Removed file from list: D:\\olympus_images\\test\\test\\20250124_102051_test-10-1-10-1_PK-DirectA_Image_B2-4.vsi\n",
      "2025-02-13 16:12:49,038 - INFO - Tracker data saved.\n",
      "2025-02-13 16:12:49,039 - INFO - Progress: 32/32 files processed. 0 remaining.\n",
      "2025-02-13 16:12:49,043 - INFO - Tracker data saved.\n",
      "2025-02-13 16:12:49,044 - INFO - Tracker has been reset.\n"
     ]
    },
    {
     "name": "stdout",
     "output_type": "stream",
     "text": [
      "Saved aligned image to: D:\\olympus_images\\test\\test_save\\date-20250124_experiment-102051_techReplicate-4_well-B2_construct-1_experiment-test_replicate-4_passage-26.tif\n"
     ]
    }
   ],
   "source": [
    "aligning_class.process_images(r'D:\\olympus_images\\test\\test', save_dir=r'D:\\olympus_images\\test\\test_save')"
   ]
  },
  {
   "cell_type": "code",
   "execution_count": null,
   "id": "4a11badc-6bba-46f1-87e9-2a8c9e89b42e",
   "metadata": {},
   "outputs": [],
   "source": [
    "class image_segmentation():\n",
    "    '''\n",
    "    \n",
    "    '''"
   ]
  }
 ],
 "metadata": {
  "kernelspec": {
   "display_name": "Python 3 (ipykernel)",
   "language": "python",
   "name": "python3"
  },
  "language_info": {
   "codemirror_mode": {
    "name": "ipython",
    "version": 3
   },
   "file_extension": ".py",
   "mimetype": "text/x-python",
   "name": "python",
   "nbconvert_exporter": "python",
   "pygments_lexer": "ipython3",
   "version": "3.11.4"
  }
 },
 "nbformat": 4,
 "nbformat_minor": 5
}
