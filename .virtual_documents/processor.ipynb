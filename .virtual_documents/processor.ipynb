


import os
import sys
import xarray
import numpy as np
import pandas as pd
from pandas.api.types import CategoricalDtype
import matplotlib.pyplot as plt
import skimage as ski
from file_handling.generic_handlers import dir_file_split_len
from image_handling.imagej_manager import ImageJManager
from analysis_class import ImageProcessor
from image_handler_class import ImageAlignmentAndTifConversion
from key_class import Key

ij = ImageJManager('default').get_ij()


from image_handling.fiji_commands import read_images_to_python


type(ij)


img = read_images_to_python(ij, r"/D:/Patrick/Infection/save_files/Tif/aligned_images/date-20250314_techReplicate-1_well-B12_construct-8_experiment-Heatshock_experimentcondition-Heatshock_experimentparameter-42_replicate-3_passages-26_exposurecam1-25_exposurecam2-25_cyanled-12U5_blueled-12U5_greenled-6U5.tif")
type(img)





segmenter = ImageProcessor(ij, r"D:/Patrick/Infection/save_files/Tif/aligned_images/", tracker_file=r'D:\Patrick\tracking_jsons\heat_tracker.json', dataframe_file=r'D:\Patrick\dataframes\new_heat-blast_dataframe.pkl')
len(segmenter.directory_storage.total_images)


key_list = [r'D:\Patrick\Keys\Blasticidin1_20250220.csv',
           r'D:\Patrick\Keys\Blasticidin1_20250225.csv',
           r'D:\Patrick\Keys\Blasticidin1_20250226.csv',
           r'D:\Patrick\Keys\Blasticidin10_20250220.csv',
           r'D:\Patrick\Keys\Blasticidin10_20250225.csv',
           r'D:\Patrick\Keys\Blasticidin10_20250226.csv',
           r'D:\Patrick\Keys\Heatshock32_20250228.csv',
           r'D:\Patrick\Keys\Heatshock32_20250304.csv',
           r'D:\Patrick\Keys\Heatshock32_20250305.csv',
           r'D:\Patrick\Keys\Heatshock42_20250206.csv',
           r'D:\Patrick\Keys\Heatshock42_20250304.csv',
           r'D:\Patrick\Keys\Heatshock42_20250314.csv',
           r'D:\Patrick\Keys\Heatshock45_20250228.csv',
           r'D:\Patrick\Keys\Heatshock45_20250305.csv',
           r'D:\Patrick\Keys\Heatshock45_20250306.csv',
           ]

image_directory_list = [r'D:\Patrick\Infection\New_parameters\Blasticidin1ug_20250220', 
                       r'D:\Patrick\Infection\New_parameters\Blasticidin1ug_20250225',
                       r'D:\Patrick\Infection\New_parameters\Blasticidin1ug_20250226',
                       r'D:\Patrick\Infection\New_parameters\Blasticidin10ug_20250220',
                       r'D:\Patrick\Infection\New_parameters\Blasticidin10ug_20250221',
                       r'D:\Patrick\Infection\New_parameters\Blasticidin10ug_20250225',
                       r'D:\Patrick\Infection\New_parameters\Heatshock32_20250228',
                        r'D:\Patrick\Infection\New_parameters\Heatshock32_20250304',
                       r'D:\Patrick\Infection\New_parameters\Heatshock32_20250305',
                       r'D:\Patrick\Infection\New_parameters\Heatshock42_20250206',
                       r'D:\Patrick\Infection\New_parameters\Heatshock42_20250304',
                       r'D:\Patrick\Infection\New_parameters\Heatshock42_20250314',
                       r'D:\Patrick\Infection\New_parameters\Heatshock45_20250228',
                       r'D:\Patrick\Infection\New_parameters\Heatshock45_20250305',
                       r'D:\Patrick\Infection\New_parameters\Heatshock45_20250306',
                       
                       ]

experiment_type = ['nonosmotic', 
                  'nonosmotic',
                  'nonosmotic',
                  'nonosmotic',
                  'nonosmotic',
                  'nonosmotic',
                  'nonosmotic',
                  'nonosmotic',
                  'nonosmotic',
                  'nonosmotic',
                  'nonosmotic',
                  'nonosmotic',
                  'nonosmotic',
                    'nonosmotic',
                   'nonosmotic',
                   ]



for key, images, experiment in zip(key_list, image_directory_list, experiment_type):
    file_len = dir_file_split_len(images)
    if file_len == 4:
        save_data = ['date', None, None, 'well']
    elif file_len == 5:
        save_data = ['date', None, None, None, 'well']
    tmp_key = Key(key, save_data, skip_validation=True)
    aligning_class = ImageAlignmentAndTifConversion(ij=ij,  observation_methods=1, initialized_key=tmp_key, 
                                                tracker_name=r"D:\Patrick\tracking_jsons\data_tracker.json", experiment=experiment)

    aligning_class.process_images(images, save_dir=r'D:\Patrick\Infection\save_files\Tif\\')

segmenter = ImageProcessor(ij, r'D:\Patrick\Infection\New_parameters\20250214_infection_save\Tif\aligned_images\\', tracker_file='D:\Patrick\tracking_jsons\data_tracker.json', dataframe_file='D:\Patrick\dataframes\heat-blast_dataframe.pkl')


img =ij.io().open(r'D:\Patrick\Infection\New_parameters\Blasticidin1ug_20250220\20250220_Blasticidin1ug_PK-FRET, PK-FRET_Image_A1-1.vsi')
img = ij.py.from_java(img)
print(img.sizes)

image_array = img.isel(t=0)




aligning_class.file_tracker.reset_tracker()


from pystackreg import StackReg as sr

alignment = sr(sr.RIGID_BODY)
alignment.register(image_array.isel(ch=0), image_array.isel(ch=1))    
alignment_method = alignment
dimensions = image_array.dims

excluded_channels = []  # Safely handles mutable default argument

stationary_channel =0
realigned_list = []
for index in range(image_array.sizes['ch']):
    current_img = image_array.isel(ch=index)
    
    if index in excluded_channels or index == stationary_channel:  # Combined two conditionals for clarity
        realigned_list.append(current_img)
        print('appended here')
        continue
    print('alignment 2')
    if alignment_method is not None:  # Replaced != None with is not None (PEP 8 style)
        print('I am here')
        registered_image = alignment_method.transform(current_img)
        print('over here')
        realigned_list.append(xarray.DataArray(registered_image, dims=current_img.dims, coords=current_img.coords))
        print('appended')
    else:
        realigned_list.append(current_img)  # Removed redundant wrapping with DataArray again
    print('align_here 3')
aligned_images = xarray.concat(realigned_list, dim='ch')
#aligned_images = reshape_image(aligned_images, new_dim_list=required_dims)  # Ensures final dims are consistent
print(aligned_images.sizes)



plt.imshow(aligned_images.isel(ch=0), cmap='Blues')
plt.imshow(aligned_images.isel(ch=1), cmap='Greens', alpha=0.5)


df2.to_csv(r'E:\Patrick\Infection\New_parameters\20250214_infection_save\csvs\second_test.csv')


print(df2)


df= pd.read_csv(r'E:\Patrick\Infection\New_parameters\20250207_infection_save\csvs\first_test.csv')


#calculation
def pixels_to_micron(df: pd.DataFrame, area_column: str='area', pixels_per_micron: float = 3.0769) -> pd.DataFrame:
    df= df.rename(columns={area_column: 'area_pixels'})
    df['area_micron'] = df['area_pixels']/pixels_per_micron
    return df

def acceptor_correction(df: pd.DataFrame, stat:str = 'mean', crossex_correction: float=0.068, bleedthrough_correction:float=0.47)-> pd.DataFrame:
    df['crossexcitation_correction'] = crossex_correction
    df['bleedthrough_correction'] = bleedthrough_correction
    df['acceptor_corrected_'+stat] = df['acceptor_intensity_'+stat] - df['donor_intensity_'+stat] *bleedthrough_correction - df['directAcceptor_intensity_'+stat] * crossex_correction
    return df

def calculate_efret(df: pd.DataFrame, stat: str='mean')->pd.DataFrame:
    df['Efret'] = df['acceptor_corrected_'+stat]/(df['donor_intensity_'+stat]+df['acceptor_corrected_'+stat])
    return df

def area_cutoffs(df: pd.DataFrame, area = 'area_micron', lower_cutoff:float = 600.0, upper_cutoff: float=7000)-> pd.DataFrame:
    df = df.loc[(df[area] > lower_cutoff) & (df[area] < upper_cutoff)]
    df = df.reset_index(drop=True)
    return df

def remove_maximums(df: pd.DataFrame, channel: str, value_cutoff: float = 55000)-> pd.DataFrame:
    channel_cutoff = channel+'_intensity_max'
    df = df.loc[df[channel_cutoff] < value_cutoff]
    df = df.reset_index(drop=True)
    return df 

def calculate_time(df: pd.DataFrame, experiment: str): 
    experiment_timeframe ={
        'infection' : 4,
        'osmoticperturbation' : 0.1,
        'heatshock': 0.5,
        'blasticidin': 0.5,
    }
    
    timeframe = experiment_time[experiment]
    df['time'] = df['timepoint'].astype(int) * timeframe
    return df

def remove_minimums(df: pd.DataFrame, channel: str, value_cutoff = 400)-> pd.DataFrame:
    channel_cutoff = channel+'_intensity_min'
    df = df.loc[df[channel_cutoff] > value_cutoff]
    df = df.reset_index(drop=True)
    return df

def directacceptor_mean_cutoffs(df: pd.DataFrame, lower_cutoff: float = 1000, upper_cutoff=40000) -> pd.DataFrame:
    df = df.loc[(df['directAcceptor_intensity_mean']> lower_cutoff) & (df['directAcceptor_intensity_mean'] < upper_cutoff)]
    return df


def donor_mean_cutoffs(df: pd.DataFrame, lower_cutoff: float = 600, upper_cutoff=20000) -> pd.DataFrame:
    df = df.loc[(df['donor_intensity_mean']> lower_cutoff) & (df['donor_intensity_mean'] < upper_cutoff)]
    return df

def infection_false_positives(df: pd.DataFrame) -> pd.DataFrame:
    # Define threshold conditions for each timepoint
    thresholds = {
        0: 400, 
        1: 2000, 
        2: 7000,
        3: 15000,  # Extend for other timepoints if needed
    }
    
    # Apply filtering conditionally for timepoints in the dictionary
    for time, threshold in thresholds.items():
        df = df.loc[~((df['timepoint'] == time) & (df['mCherry_intensity_mean'] > threshold))]

    df = df.reset_index(drop=True)
    return df

def infection_parameters(df: pd.DataFrame) -> pd.DataFrame:
    df = df.copy()  # Ensure original DataFrame is not modified in place
    #df['experimentparameter'] = np.where(df['mCherry_intensity_mean'] < mCherry_intensity, 'noninfected', 'infected')
    noninfected_df = df.loc[df['mCherry_intensity_mean']< 250]
    noninfected_df['experimentparameter'] = 'noninfected'
    
    low_df = df.loc[(df['mCherry_intensity_mean'] > 250) & (df['mCherry_intensity_mean'] < 1000)]
    low_df['experimentparameter'] = 'low infection'
    
    med_df = df.loc[(df['mCherry_intensity_mean'] > 1000) & (df['mCherry_intensity_mean'] < 10000)]
    med_df['experimentparameter'] = 'med infection'
    
    high_df = df.loc[(df['mCherry_intensity_mean'] > 10000)]
    high_df['experimentparameter'] = 'high infection'
    
    df = pd.concat([noninfected_df, low_df, med_df, high_df])
    return df

def set_categorical_order(df: pd.DataFrame, column_name: str, category_order: list[str]) -> pd.DataFrame:
    df = df.copy()  # Ensure we don't modify the original DataFrame in-place

    if column_name not in df.columns:
        raise ValueError(f"Column '{column_name}' not found in DataFrame")
    
    # Ensure existing values in the column are not lost
    existing_values = df[column_name].dropna().unique()
    
    # Combine user-defined order with existing unique values while preserving order
    complete_order = list(dict.fromkeys(category_order + list(existing_values)))  

    # Apply the categorical dtype
    cat_type = CategoricalDtype(categories=complete_order, ordered=True)
    df[column_name] = df[column_name].astype(cat_type)

    return df  # Return modified DataFrame without affecting other columns

def sort_values(df: pd.DataFrame, sort_dict: dict[str, list[str]])-> pd.DataFrame:
    tmp_df = df.copy()
    for index, sorter_values in sort_dict.items():
        new_df = set_catergorical_values(tmp_df, index, sorter_values)
    return new_df
    
def compare_deltas(df: pd.DataFrame,  group_values: list, delta_column: str) -> pd.DataFrame:
    # Ensure sorting for time-based delta calculations
    df = df.sort_values(by=group_values)

    new_grouper = group_values.remove('timepoint')
    # Compute deltas for the given column
    df[f'delta_{delta_column}'] = df.groupby(new_grouper)[delta_column].diff()
    
    return df


def get_counts(df: pd.DataFrame, group_values: list):
    #count per experiment
    #count per construct
    #count per condition
    #count per parameter
    #count per timepoint
    #count per date
    #count per well
    #count of wells
    #count per replicate
    
    tmp_counts = df.groupby(group_values)['Efret'].count()
    return tmp_counts


def get_medians(df: pd.DataFrame, group_values):
    tmp_medians = df.groupby(group_values)['Efret'].median()
    return tmp_medians    

def get_errorbars():
    return


import seaborn as sns
#print(len(df))
#print(len(df2))
#comb_df = pd.concat([df, df2])
#print(len(comb_df))




tmp_df = pixels_to_micron(df2)
tmp_df = acceptor_correction(tmp_df)
tmp_df = calculate_efret(tmp_df)
tmp_df = area_cutoffs(tmp_df)
tmp_df = remove_maximums(tmp_df, 'directAcceptor')
tmp_df = remove_minimums(tmp_df, 'directAcceptor')
tmp_df = directacceptor_mean_cutoffs(tmp_df)
tmp_df = donor_mean_cutoffs(tmp_df)
tmp_df = infection_false_positives(tmp_df)
tmp_df = infection_parameters(tmp_df)



construct_order = ['GS32', 'SED1', '1', '2', '3', '4', '5', '6', '7', '8', '9', '10', '11', '12']
experiment_order = ['Infection']
experiment_condition = ['Growth', 'Infection']
experiment_parameter = ['noninfected', 'infected']

my_sort_dict = {
            'construct' : construct_order,
            'experiment': experiment_order,
            'experimentcondition': experiment_condition,
            'experimentparameter': experiment_parameter, 
               }




tmp_df = set_categorical_order(tmp_df, column_name='construct', category_order= construct_order)


growth_df = tmp_df.loc[tmp_df['experimentcondition'] == 'Growth']
noninfected_only = growth_df.loc[growth_df['experimentparameter'] == 'noninfected']
noninfected_only['experimentparameter'] = 'Growth'


this_df = tmp_df.loc[tmp_df['experimentcondition'] == 'Infection']

test_df = pd.concat([noninfected_only, this_df])

test_df  = test_df .loc[test_df ['timepoint']=='0']
#test_df  = test_df .loc[test_df['construct']=='1']
sns.violinplot(test_df, x='construct', y='Efret', hue='experimentparameter')




df2


img= img.transpose('t', 'ch', 'row', 'col' )
java_img = ij.py.to_java(img)
java_img.shape



ij.IJ.save(java_img, r'E:\test.tif')


img =ij.io().open(r'E:\Patrick\Infection\New_parameters\20250207_infection_save\Tif\aligned_images\date-20250209_techReplicate-1_well-E4_construct-5_experiment-Infection_experimentcondition-Infect_replicate-1_passages-19_exposurecam1-25_cyanled-12u5_exposurecam2-25_blueled-12u5_greenled-6u5.tif')
print(img.shape)
img = ij.py.from_java(img)
print(img.sizes)


tmp_img = img.isel(t=4)
fig, ax = plt.subplots(1, 3, figsize=(10,10))
for i in range(img.sizes['ch']):
    ax[i].imshow(img.isel(ch=i, t=6))
    


class DataCleaner:
    def __init__(self, df):
        self.dataframe = df
        self.cleaned_df = 
        
        self.plotting_Storage = PlottingStorage()
        self.plotting_storage.experiment_dict = self.__get_unique_experiments()
        self.plotting_storage.timepoint_dict  = self.__get_timepoints() 

    
    def __get_unique_experiments(self)-> dict:
        unique_experiments = self.dataframe.experiment.unique()
        return {index: unique_experiment[index] for index in range(len(unique_experiment))}

    def __get_unique_experiment_time(self, experiment)-> dict:
        tmp_df = self.dataframe.loc[self.dataframe['experiment'] == experiment]
        unique_timepoint = tmp_df.timepoint.unique()
        return {index: unique_experiment[index] for index in range(len(unique_timepoint))}

    def __get_timepoints(self):
        return {self.plotting_storage.experiment_dict[index]: self.__get_unique_experiment_time(self.plotting_storage.experiment_dict[index]) for index in range(len(self.plotting_storage.experiment_dict[index]))}

    def __get_(self):

    def __clean_df(self):
        


tmp_df = pd.read_pickle(r"D:/Patrick/dataframes/new_heat-blast_dataframe.pkl")
tmp_df


os.getcwd()


os.chdir(r"D:/Patrick/Infection/save_files/Tif/aligned_images")


cwd = os.getcwd()

# List all files (excluding directories)
files = [f for f in os.listdir(cwd) if os.path.isfile(os.path.join(cwd, f))]

len(files)



