{
 "cells": [
  {
   "cell_type": "markdown",
   "id": "a8f5b924-053e-486f-bae4-d9b2786f25a1",
   "metadata": {},
   "source": [
    "# Processor testing for first infection running"
   ]
  },
  {
   "cell_type": "code",
   "execution_count": 1,
   "id": "aefb657e-fba5-4136-a425-b07ef0aa7baa",
   "metadata": {},
   "outputs": [
    {
     "ename": "SyntaxError",
     "evalue": "non-default argument follows default argument (analysis_class.py, line 169)",
     "output_type": "error",
     "traceback": [
      "Traceback \u001b[1;36m(most recent call last)\u001b[0m:\n",
      "\u001b[0m  File \u001b[0;32mD:\\anaconda3\\envs\\pyimagej\\Lib\\site-packages\\IPython\\core\\interactiveshell.py:3508\u001b[0m in \u001b[0;35mrun_code\u001b[0m\n    exec(code_obj, self.user_global_ns, self.user_ns)\u001b[0m\n",
      "\u001b[1;36m  Cell \u001b[1;32mIn[1], line 10\u001b[1;36m\n\u001b[1;33m    from analysis_class import ImageProcessor\u001b[1;36m\n",
      "\u001b[1;36m  File \u001b[1;32mD:\\OneDrive\\Virus\\SpudMaster\\analysis_class.py:169\u001b[1;36m\u001b[0m\n\u001b[1;33m    def plot_image(self, index, time_series_plot = False, figsize=False, get_mask):\u001b[0m\n\u001b[1;37m                                                                         ^\u001b[0m\n\u001b[1;31mSyntaxError\u001b[0m\u001b[1;31m:\u001b[0m non-default argument follows default argument\n"
     ]
    }
   ],
   "source": [
    "import os\n",
    "import sys\n",
    "import xarray\n",
    "import numpy as np\n",
    "import pandas as pd\n",
    "from pandas.api.types import CategoricalDtype\n",
    "import matplotlib.pyplot as plt\n",
    "import skimage as ski\n",
    "from image_handling.imagej_manager import ImageJManager\n",
    "from analysis_class import ImageProcessor\n",
    "from image_handler_class import ImageAlignmentAndTifConversion\n",
    "from key_class import Key\n",
    "\n",
    "ij = ImageJManager('default').get_ij()"
   ]
  },
  {
   "cell_type": "code",
   "execution_count": 3,
   "id": "b47daab2-b441-47e3-af34-6488b155a0c9",
   "metadata": {},
   "outputs": [
    {
     "name": "stderr",
     "output_type": "stream",
     "text": [
      "2025-03-14 16:17:55,303 - INFO - Tracker data saved.\n",
      "2025-03-14 16:17:55,303 - INFO - Tracker has been reset.\n"
     ]
    }
   ],
   "source": [
    "key = Key(r'E:\\Patrick\\Keys\\Infection_20250207.csv', ['date', None, None, None, 'well'], skip_validation=True)\n",
    "\n",
    "\n",
    "aligning_class = ImageAlignmentAndTifConversion(ij=ij,  observation_methods=2, initialized_key=key, \n",
    "                                                tracker_name=r\"E:\\Patrick\\tracking_jsons\\infection_tracker.json\")\n",
    "\n",
    "aligning_class.process_images(r'E:\\Patrick\\Infection\\New_parameters\\Infection_20250207', save_dir=r'E:\\Patrick\\Infection\\New_parameters\\20250207_infection_save\\Tif\\\\')"
   ]
  },
  {
   "cell_type": "code",
   "execution_count": 3,
   "id": "66844fc8-3b82-435d-bb16-a8db0bda80e1",
   "metadata": {},
   "outputs": [
    {
     "data": {
      "text/plain": [
       "{'all_files': [],\n",
       " 'current_files': [],\n",
       " 'failed_files': [],\n",
       " 'pipeline_failed': False,\n",
       " 'last_run': '2025-03-05 02:03:01.883433'}"
      ]
     },
     "execution_count": 3,
     "metadata": {},
     "output_type": "execute_result"
    }
   ],
   "source": [
    "aligning_class.file_tracker.tracker_data"
   ]
  },
  {
   "cell_type": "code",
   "execution_count": 2,
   "id": "a9a8b6d4-070f-4171-a8b6-9ef38f04aea2",
   "metadata": {},
   "outputs": [
    {
     "name": "stdout",
     "output_type": "stream",
     "text": [
      "Initialized new empty DataFrame.\n"
     ]
    },
    {
     "name": "stderr",
     "output_type": "stream",
     "text": [
      "2025-03-14 18:36:13,383 - INFO - Loaded 384 files\n",
      "2025-03-14 18:36:13,384 - ERROR - Failed to save tracker data: [Errno 22] Invalid argument: 'E:\\\\Patrick\\tracking_jsons\\track_infection.json'\n"
     ]
    }
   ],
   "source": [
    "segmenter = ImageProcessor(ij, r'E:\\Patrick\\Infection\\New_parameters\\20250207_infection_save\\Tif\\aligned_images\\\\', tracker_file='E:\\Patrick\\tracking_jsons\\track_infection.json', dataframe_file='E:\\Patrick\\dataframes\\20250207_infection_dataframe.pkl')"
   ]
  },
  {
   "cell_type": "code",
   "execution_count": 3,
   "id": "cead63ab-578b-41ce-bd4b-e6d5247ae204",
   "metadata": {},
   "outputs": [
    {
     "name": "stderr",
     "output_type": "stream",
     "text": [
      "2025-03-14 23:04:54,687 - ERROR - Failed to save tracker data: [Errno 22] Invalid argument: 'E:\\\\Patrick\\tracking_jsons\\track_infection.json'\n",
      "2025-03-14 23:04:54,688 - INFO - Tracker has been reset.\n",
      "2025-03-14 23:04:54,689 - INFO - Progress: 0/0 files processed. 0 remaining. files failed: 0.\n"
     ]
    }
   ],
   "source": [
    "df = segmenter.image_segmentation()"
   ]
  },
  {
   "cell_type": "code",
   "execution_count": 4,
   "id": "ec796327-a563-4f52-a644-2c7b86cbea2c",
   "metadata": {},
   "outputs": [],
   "source": [
    "df.to_csv(r'E:\\Patrick\\Infection\\New_parameters\\20250207_infection_save\\csvs\\first_test.csv')"
   ]
  },
  {
   "cell_type": "code",
   "execution_count": 6,
   "id": "54a6aebd-ca19-454a-b018-50a8506c0e0d",
   "metadata": {},
   "outputs": [
    {
     "data": {
      "text/plain": [
       "construct  experimentcondition\n",
       "1          Growth                 2712\n",
       "           Infect                 2255\n",
       "10         Growth                 2256\n",
       "           Infect                 2239\n",
       "11         Growth                 1321\n",
       "           Infect                 1320\n",
       "12         Growth                 3621\n",
       "           Infect                 3011\n",
       "2          Growth                 2342\n",
       "           Infect                 2227\n",
       "3          Growth                 3799\n",
       "           Infect                 3263\n",
       "4          Growth                 2174\n",
       "           Infect                 2293\n",
       "5          Growth                 2968\n",
       "           Infect                 2591\n",
       "6          Growth                 1397\n",
       "           Infect                 1316\n",
       "7          Growth                 1503\n",
       "           Infect                 1751\n",
       "8          Growth                 1784\n",
       "           Infect                 2097\n",
       "9          Growth                 1610\n",
       "           Infect                 1412\n",
       "GS32       Growth                 1449\n",
       "           Infect                 1729\n",
       "SED1       Growth                 2310\n",
       "           Infect                 1972\n",
       "mNG        Growth                 3321\n",
       "           Infect                 2086\n",
       "mTQ2       Growth                 2824\n",
       "           Infect                 2149\n",
       "Name: donor_intensity_mean, dtype: int64"
      ]
     },
     "execution_count": 6,
     "metadata": {},
     "output_type": "execute_result"
    }
   ],
   "source": [
    "df.groupby(['construct', 'experimentcondition'])['donor_intensity_mean'].count()"
   ]
  },
  {
   "cell_type": "code",
   "execution_count": 7,
   "id": "4c58ca22-eca8-406a-93ab-0e6308f6473e",
   "metadata": {},
   "outputs": [],
   "source": [
    "#calculation\n",
    "def pixels_to_micron(df: pd.DataFrame, area_column: str='area', pixels_per_micron: float = 3.0769) -> pd.DataFrame:\n",
    "    df= df.rename(columns={area_column: 'area_pixels'})\n",
    "    df['area_micron'] = df['area_pixels']/pixels_per_micron\n",
    "    return df\n",
    "\n",
    "\n",
    "\n",
    "def acceptor_correction(df: pd.DataFrame, stat:str = 'mean', crossex_correction: float=0.068, bleedthrough_correction:float=0.47)-> pd.DataFrame:\n",
    "    df['crossexcitation_correction'] = crossex_correction\n",
    "    df['bleedthrough_correction'] = bleedthrough_correction\n",
    "    df['acceptor_corrected_'+stat] = df['acceptor_intensity_'+stat] - df['donor_intensity_'+stat] *bleedthrough_correction - df['directAcceptor_intensity_'+stat] * crossex_correction\n",
    "    return df\n",
    "\n",
    "\n",
    "\n",
    "def calculate_efret(df: pd.DataFrame, stat: str='mean')->pd.DataFrame:\n",
    "    df['Efret'] = df['acceptor_corrected_'+stat]/(df['donor_intensity_'+stat]+df['acceptor_corrected_'+stat])\n",
    "    return df\n",
    "\n",
    "\n",
    "\n",
    "def area_cutoffs(df: pd.DataFrame, area = 'area_micron', lower_cutoff:float = 600.0, upper_cutoff: float=7000)-> pd.DataFrame:\n",
    "    df = df.loc[(df[area] > lower_cutoff) & (df[area] < upper_cutoff)]\n",
    "    df = df.reset_index(drop=True)\n",
    "    return df\n",
    "\n",
    "def remove_maximums(df: pd.DataFrame, channel: str, value_cutoff: float = 55000)-> pd.DataFrame:\n",
    "    channel_cutoff = channel+'_intensity_max'\n",
    "    df = df.loc[df[channel_cutoff] < value_cutoff]\n",
    "    df = df.reset_index(drop=True)\n",
    "    return df \n",
    "\n",
    "def calculate_time(df: pd.DataFrame, experiment: str): \n",
    "    experiment_timeframe ={\n",
    "        'infection' : 4,\n",
    "        'osmoticperturbation' : 0.1,\n",
    "        'heatshock': 0.5,\n",
    "        'blasticidin': 0.5,\n",
    "    }\n",
    "    \n",
    "    timeframe = experiment_time[experiment]\n",
    "    df['time'] = df['timepoint'].astype(int) * timeframe\n",
    "    return df\n",
    "\n",
    "def remove_minimums(df: pd.DataFrame, channel: str, value_cutoff = 400)-> pd.DataFrame:\n",
    "    channel_cutoff = channel+'_intensity_min'\n",
    "    df = df.loc[df[channel_cutoff] > value_cutoff]\n",
    "    df = df.reset_index(drop=True)\n",
    "    return df\n",
    "\n",
    "def directacceptor_mean_cutoffs(df: pd.DataFrame, lower_cutoff: float = 1000, upper_cutoff=40000) -> pd.DataFrame:\n",
    "    df = df.loc[(df['directAcceptor_intensity_mean']> lower_cutoff) & (df['directAcceptor_intensity_mean'] < upper_cutoff)]\n",
    "    return df\n",
    "\n",
    "\n",
    "def donor_mean_cutoffs(df: pd.DataFrame, lower_cutoff: float = 700, upper_cutoff=20000) -> pd.DataFrame:\n",
    "    df = df.loc[(df['donor_intensity_mean']> lower_cutoff) & (df['donor_intensity_mean'] < upper_cutoff)]\n",
    "    return df\n",
    "\n",
    "def infection_false_positives(df: pd.DataFrame) -> pd.DataFrame:\n",
    "    # Define threshold conditions for each timepoint\n",
    "    thresholds = {\n",
    "        0: 400, \n",
    "        1: 2000, \n",
    "        2: 7000,\n",
    "        3: 15000,  # Extend for other timepoints if needed\n",
    "    }\n",
    "    \n",
    "    # Apply filtering conditionally for timepoints in the dictionary\n",
    "    for time, threshold in thresholds.items():\n",
    "        df = df.loc[~((df['timepoint'] == time) & (df['mCherry_intensity_mean'] > threshold))]\n",
    "\n",
    "    df = df.reset_index(drop=True)\n",
    "    return df\n",
    "\n",
    "def infection_parameters(df: pd.DataFrame, mCherry_intensity: float = 1000.0) -> pd.DataFrame:\n",
    "    df = df.copy()  # Ensure original DataFrame is not modified in place\n",
    "    df['experimentparameter'] = np.where(df['mCherry_intensity_mean'] < mCherry_intensity, 'noninfected', 'infected')\n",
    "    return df\n",
    "\n",
    "def set_categorical_order(df: pd.DataFrame, column_name: str, category_order: list[str]) -> pd.DataFrame:\n",
    "    df = df.copy()  # Ensure we don't modify the original DataFrame in-place\n",
    "\n",
    "    if column_name not in df.columns:\n",
    "        raise ValueError(f\"Column '{column_name}' not found in DataFrame\")\n",
    "    \n",
    "    # Ensure existing values in the column are not lost\n",
    "    existing_values = df[column_name].dropna().unique()\n",
    "    \n",
    "    # Combine user-defined order with existing unique values while preserving order\n",
    "    complete_order = list(dict.fromkeys(category_order + list(existing_values)))  \n",
    "\n",
    "    # Apply the categorical dtype\n",
    "    cat_type = CategoricalDtype(categories=complete_order, ordered=True)\n",
    "    df[column_name] = df[column_name].astype(cat_type)\n",
    "\n",
    "    return df  # Return modified DataFrame without affecting other columns\n",
    "\n",
    "def sort_values(df: pd.DataFrame, sort_dict: dict[str, list[str]])-> pd.DataFrame:\n",
    "    tmp_df = df.copy()\n",
    "    for index, sorter_values in sort_dict.items():\n",
    "        new_df = set_catergorical_values(tmp_df, index, sorter_values)\n",
    "    return new_df\n",
    "    \n",
    "def compare_deltas(df: pd.DataFrame,  group_values: list, delta_column: str) -> pd.DataFrame:\n",
    "    # Ensure sorting for time-based delta calculations\n",
    "    df = df.sort_values(by=group_values)\n",
    "\n",
    "    new_grouper = group_values.remove('timepoint')\n",
    "    # Compute deltas for the given column\n",
    "    df[f'delta_{delta_column}'] = df.groupby(new_grouper)[delta_column].diff()\n",
    "    \n",
    "    return df\n",
    "\n",
    "\n",
    "def get_counts(df: pd.DataFrame, group_values: list):\n",
    "    #count per experiment\n",
    "    #count per construct\n",
    "    #count per condition\n",
    "    #count per parameter\n",
    "    #count per timepoint\n",
    "    #count per date\n",
    "    #count per well\n",
    "    #count of wells\n",
    "    #count per replicate\n",
    "    \n",
    "    tmp_counts = df.groupby(group_values)['Efret'].count()\n",
    "    return tmp_counts\n",
    "\n",
    "\n",
    "def get_medians(df: pd.DataFrame, group_values):\n",
    "    tmp_medians = df.groupby(group_values)['Efret'].median()\n",
    "    return tmp_medians    \n",
    "\n",
    "def get_errorbars():\n",
    "    return"
   ]
  },
  {
   "cell_type": "code",
   "execution_count": 9,
   "id": "78d913c6-d2af-4e38-af89-82f57fbe6780",
   "metadata": {},
   "outputs": [],
   "source": [
    "import seaborn as sns"
   ]
  },
  {
   "cell_type": "code",
   "execution_count": 10,
   "id": "c8f30e24-bf46-446d-989e-a8ad9e9c6f11",
   "metadata": {},
   "outputs": [
    {
     "name": "stderr",
     "output_type": "stream",
     "text": [
      "C:\\Users\\patri\\AppData\\Local\\Temp\\ipykernel_23388\\415839755.py:35: SettingWithCopyWarning: \n",
      "A value is trying to be set on a copy of a slice from a DataFrame.\n",
      "Try using .loc[row_indexer,col_indexer] = value instead\n",
      "\n",
      "See the caveats in the documentation: https://pandas.pydata.org/pandas-docs/stable/user_guide/indexing.html#returning-a-view-versus-a-copy\n",
      "  noninfected_only['experimentparameter'] = 'Growth'\n",
      "D:\\anaconda3\\envs\\pyimagej\\Lib\\site-packages\\seaborn\\categorical.py:641: FutureWarning: The default of observed=False is deprecated and will be changed to True in a future version of pandas. Pass observed=False to retain current behavior or observed=True to adopt the future default and silence this warning.\n",
      "  grouped_vals = vals.groupby(grouper)\n",
      "D:\\anaconda3\\envs\\pyimagej\\Lib\\site-packages\\seaborn\\categorical.py:641: FutureWarning: The default of observed=False is deprecated and will be changed to True in a future version of pandas. Pass observed=False to retain current behavior or observed=True to adopt the future default and silence this warning.\n",
      "  grouped_vals = vals.groupby(grouper)\n"
     ]
    },
    {
     "data": {
      "text/plain": [
       "<Axes: xlabel='construct', ylabel='Efret'>"
      ]
     },
     "execution_count": 10,
     "metadata": {},
     "output_type": "execute_result"
    },
    {
     "data": {
      "image/png": "[encoded data removed]",
      "text/plain": [
       "<Figure size 640x480 with 1 Axes>"
      ]
     },
     "metadata": {},
     "output_type": "display_data"
    }
   ],
   "source": [
    "tmp_df = pixels_to_micron(df)\n",
    "tmp_df = acceptor_correction(tmp_df)\n",
    "tmp_df = calculate_efret(tmp_df)\n",
    "tmp_df = area_cutoffs(tmp_df)\n",
    "tmp_df = remove_maximums(tmp_df, 'directAcceptor')\n",
    "tmp_df = remove_minimums(tmp_df, 'directAcceptor')\n",
    "tmp_df = directacceptor_mean_cutoffs(tmp_df)\n",
    "tmp_df = donor_mean_cutoffs(tmp_df)\n",
    "\n",
    "tmp_df = infection_false_positives(tmp_df)\n",
    "\n",
    "tmp_df = infection_parameters(tmp_df)\n",
    "\n",
    "\n",
    "\n",
    "construct_order = ['GS32', 'SED1', '1', '2', '3', '4', '5', '6', '7', '8', '9', '10', '12']\n",
    "experiment_order = ['Infection']\n",
    "experiment_condition = ['Growth', 'Infect']\n",
    "experiment_parameter = ['noninfected', 'infected']\n",
    "\n",
    "my_sort_dict = {\n",
    "            'construct' : construct_order,\n",
    "            'experiment': experiment_order,\n",
    "            'experimentcondition': experiment_condition,\n",
    "            'experimentparameter': experiment_parameter, \n",
    "               }\n",
    "\n",
    "\n",
    "\n",
    "\n",
    "tmp_df = set_categorical_order(tmp_df, column_name='construct', category_order= construct_order)\n",
    "\n",
    "growth_df = tmp_df.loc[tmp_df['experimentcondition'] == 'Growth']\n",
    "noninfected_only = growth_df.loc[growth_df['experimentparameter'] == 'noninfected']\n",
    "noninfected_only['experimentparameter'] = 'Growth'\n",
    "\n",
    "\n",
    "this_df = tmp_df.loc[tmp_df['experimentcondition'] == 'Infect']\n",
    "\n",
    "test_df = pd.concat([noninfected_only, this_df])\n",
    "sns.violinplot(test_df, x='construct', y='Efret', hue='experimentparameter')\n",
    "\n"
   ]
  },
  {
   "cell_type": "code",
   "execution_count": 166,
   "id": "a296eb74-c5a0-454a-b1fe-a9293eb8ed9c",
   "metadata": {},
   "outputs": [
    {
     "data": {
      "text/plain": [
       "Series([], Name: construct, dtype: category\n",
       "Categories (13, object): ['GS32', 'SED1', '1', '2', ..., '8', '9', '10', '12'])"
      ]
     },
     "execution_count": 166,
     "metadata": {},
     "output_type": "execute_result"
    }
   ],
   "source": [
    "this_df = get_count(tmp_df, [''])\n",
    "print(this_df)"
   ]
  },
  {
   "cell_type": "code",
   "execution_count": null,
   "id": "d748a374-0bed-4018-9d5a-bc394a2bbedb",
   "metadata": {},
   "outputs": [],
   "source": [
    "img= img.transpose('t', 'ch', 'row', 'col' )\n",
    "java_img = ij.py.to_java(img)\n",
    "java_img.shape\n"
   ]
  },
  {
   "cell_type": "code",
   "execution_count": 25,
   "id": "c2153707-8f46-40b8-9379-3972595e40e9",
   "metadata": {},
   "outputs": [],
   "source": [
    "ij.IJ.save(java_img, r'E:\\test.tif')"
   ]
  },
  {
   "cell_type": "code",
   "execution_count": 25,
   "id": "c612654b-f234-45d0-825b-2c71a1eedac4",
   "metadata": {},
   "outputs": [
    {
     "name": "stdout",
     "output_type": "stream",
     "text": [
      "(2048, 2048, 4, 9)\n",
      "Frozen({'t': 9, 'row': 2048, 'col': 2048, 'ch': 4})\n"
     ]
    }
   ],
   "source": [
    "img =ij.io().open(r'E:\\Patrick\\Infection\\New_parameters\\20250207_infection_save\\Tif\\aligned_images\\date-20250209_techReplicate-1_well-A5_construct-1_experiment-Infection_experimentcondition-Infect_replicate-2_passages-26_exposurecam1-25_cyanled-12u5_exposurecam2-25_blueled-12u5_greenled-6u5.tif')\n",
    "print(img.shape)\n",
    "img = ij.py.from_java(img)\n",
    "print(img.sizes)"
   ]
  },
  {
   "cell_type": "code",
   "execution_count": 31,
   "id": "9ee72771-51a0-4822-a6b2-02881cbe70d6",
   "metadata": {},
   "outputs": [
    {
     "data": {
      "image/png": "[encoded data removed]",
      "text/plain": [
       "<Figure size 1000x1000 with 4 Axes>"
      ]
     },
     "metadata": {},
     "output_type": "display_data"
    }
   ],
   "source": [
    "tmp_img = img.isel(t=0)\n",
    "fig, ax = plt.subplots(1, 4, figsize=(10,10))\n",
    "for i in range(tmp_img.sizes['ch']):\n",
    "    ax[i].imshow(tmp_img.isel(ch=i), cmap='gray', vmin= 150, vmax=25000)\n",
    "    "
   ]
  },
  {
   "cell_type": "code",
   "execution_count": null,
   "id": "15f55011-295d-423b-a438-33cbfa6cff46",
   "metadata": {},
   "outputs": [],
   "source": [
    "class DataCleaner:\n",
    "    def __init__(self, df):\n",
    "        self.dataframe = df\n",
    "        self.cleaned_df = \n",
    "        \n",
    "        self.plotting_Storage = PlottingStorage()\n",
    "        self.plotting_storage.experiment_dict = self.__get_unique_experiments()\n",
    "        self.plotting_storage.timepoint_dict  = self.__get_timepoints() \n",
    "\n",
    "    \n",
    "    def __get_unique_experiments(self)-> dict:\n",
    "        unique_experiments = self.dataframe.experiment.unique()\n",
    "        return {index: unique_experiment[index] for index in range(len(unique_experiment))}\n",
    "\n",
    "    def __get_unique_experiment_time(self, experiment)-> dict:\n",
    "        tmp_df = self.dataframe.loc[self.dataframe['experiment'] == experiment]\n",
    "        unique_timepoint = tmp_df.timepoint.unique()\n",
    "        return {index: unique_experiment[index] for index in range(len(unique_timepoint))}\n",
    "\n",
    "    def __get_timepoints(self):\n",
    "        return {self.plotting_storage.experiment_dict[index]: self.__get_unique_experiment_time(self.plotting_storage.experiment_dict[index]) for index in range(len(self.plotting_storage.experiment_dict[index]))}\n",
    "\n",
    "    def __get_(self):\n",
    "\n",
    "    def __clean_df(self):\n",
    "        "
   ]
  }
 ],
 "metadata": {
  "kernelspec": {
   "display_name": "Python 3 (ipykernel)",
   "language": "python",
   "name": "python3"
  },
  "language_info": {
   "codemirror_mode": {
    "name": "ipython",
    "version": 3
   },
   "file_extension": ".py",
   "mimetype": "text/x-python",
   "name": "python",
   "nbconvert_exporter": "python",
   "pygments_lexer": "ipython3",
   "version": "3.11.4"
  }
 },
 "nbformat": 4,
 "nbformat_minor": 5
}
